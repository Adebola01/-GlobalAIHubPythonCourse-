{
  "nbformat": 4,
  "nbformat_minor": 0,
  "metadata": {
    "colab": {
      "name": "Day 5 Homework.ipynb",
      "provenance": [],
      "collapsed_sections": [],
      "authorship_tag": "ABX9TyPMuFcte4RZvoD9POxScl14",
      "include_colab_link": true
    },
    "kernelspec": {
      "name": "python3",
      "display_name": "Python 3"
    }
  },
  "cells": [
    {
      "cell_type": "markdown",
      "metadata": {
        "id": "view-in-github",
        "colab_type": "text"
      },
      "source": [
        "<a href=\"https://colab.research.google.com/github/Adebola01/-GlobalAIHubPythonCourse-/blob/main/Day_5_Homework.ipynb\" target=\"_parent\"><img src=\"https://colab.research.google.com/assets/colab-badge.svg\" alt=\"Open In Colab\"/></a>"
      ]
    },
    {
      "cell_type": "code",
      "metadata": {
        "colab": {
          "base_uri": "https://localhost:8080/"
        },
        "id": "Zwgkmv9ryIsm",
        "outputId": "cbfc1d05-8259-471a-8e56-68f4fba5e928"
      },
      "source": [
        "class Animals:\r\n",
        "    def __init__(self, name, sound, colour):\r\n",
        "        self.name = name\r\n",
        "        self.sound = sound\r\n",
        "        self.colour = colour\r\n",
        "\r\n",
        "p1 = Animals(\"dogs, cats\", \"woof, meow\", \"brown, black\")\r\n",
        "\r\n",
        "print(p1.name)\r\n",
        "print(p1.sound)\r\n",
        "print(p1.colour)"
      ],
      "execution_count": 1,
      "outputs": [
        {
          "output_type": "stream",
          "text": [
            "dogs, cats\n",
            "woof, meow\n",
            "brown, black\n"
          ],
          "name": "stdout"
        }
      ]
    },
    {
      "cell_type": "code",
      "metadata": {
        "colab": {
          "base_uri": "https://localhost:8080/"
        },
        "id": "VbFfUqqA-aFM",
        "outputId": "664d7b05-6585-4c84-d60a-70459c07d8b8"
      },
      "source": [
        "class Dogs:\r\n",
        "    def __init__(self, name, sound, colour):\r\n",
        "        self.name = name\r\n",
        "        self.sound = sound\r\n",
        "        self.colour = colour\r\n",
        "\r\n",
        "p1 = Dogs(\"Bruno\", \"woof\", \"brown\")\r\n",
        "\r\n",
        "print(p1.name)\r\n",
        "print(p1.sound)\r\n",
        "print(p1.colour)"
      ],
      "execution_count": 2,
      "outputs": [
        {
          "output_type": "stream",
          "text": [
            "Bruno\n",
            "woof\n",
            "brown\n"
          ],
          "name": "stdout"
        }
      ]
    },
    {
      "cell_type": "code",
      "metadata": {
        "colab": {
          "base_uri": "https://localhost:8080/"
        },
        "id": "u7MDXskc-eyR",
        "outputId": "74756aa5-1994-4539-d4c5-270d6ff99393"
      },
      "source": [
        "class Cats:\r\n",
        "    def __init__(self, name, sound, colour):\r\n",
        "        self.name = name\r\n",
        "        self.sound = sound\r\n",
        "        self.colour = colour\r\n",
        "\r\n",
        "p1 = Cats(\"Missy\", \"meow\", \"black\")\r\n",
        "\r\n",
        "print(p1.name)\r\n",
        "print(p1.sound)\r\n",
        "print(p1.colour)"
      ],
      "execution_count": 3,
      "outputs": [
        {
          "output_type": "stream",
          "text": [
            "Missy\n",
            "meow\n",
            "black\n"
          ],
          "name": "stdout"
        }
      ]
    }
  ]
}