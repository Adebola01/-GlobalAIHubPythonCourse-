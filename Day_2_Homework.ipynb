{
  "nbformat": 4,
  "nbformat_minor": 0,
  "metadata": {
    "colab": {
      "name": "Day 2 Homework.ipynb",
      "provenance": [],
      "collapsed_sections": [],
      "authorship_tag": "ABX9TyO6MG7/dPHs8cpZGURaBW8H",
      "include_colab_link": true
    },
    "kernelspec": {
      "name": "python3",
      "display_name": "Python 3"
    }
  },
  "cells": [
    {
      "cell_type": "markdown",
      "metadata": {
        "id": "view-in-github",
        "colab_type": "text"
      },
      "source": [
        "<a href=\"https://colab.research.google.com/github/Adebola01/-GlobalAIHubPythonCourse-/blob/main/Day_2_Homework.ipynb\" target=\"_parent\"><img src=\"https://colab.research.google.com/assets/colab-badge.svg\" alt=\"Open In Colab\"/></a>"
      ]
    },
    {
      "cell_type": "code",
      "metadata": {
        "id": "y0PHiXtajeZ8"
      },
      "source": [
        "#Define a list\r\n",
        "list = [10, 20, 30, 40, 50, 60, 70, 80]"
      ],
      "execution_count": 1,
      "outputs": []
    },
    {
      "cell_type": "code",
      "metadata": {
        "id": "gb-Y6Urlkop_"
      },
      "source": [
        "# Create list1 with half elements (first 4 elements)\r\n",
        "list1 = list [0:4]"
      ],
      "execution_count": 2,
      "outputs": []
    },
    {
      "cell_type": "code",
      "metadata": {
        "id": "MhLZ4kURkzYO"
      },
      "source": [
        "# Create list2 with next half elements (next 4 elements)\r\n",
        "list2 = list [4:8]"
      ],
      "execution_count": 3,
      "outputs": []
    },
    {
      "cell_type": "code",
      "metadata": {
        "colab": {
          "base_uri": "https://localhost:8080/"
        },
        "id": "1nkX5xhCk88W",
        "outputId": "4d0f1650-3101-47c8-cf31-7f49db6b539a"
      },
      "source": [
        "# Print list\r\n",
        "print (\"list : \",list)\r\n",
        "print (\"list1: \",list1)\r\n",
        "print (\"list2: \",list2)"
      ],
      "execution_count": 4,
      "outputs": [
        {
          "output_type": "stream",
          "text": [
            "list :  [10, 20, 30, 40, 50, 60, 70, 80]\n",
            "list1:  [10, 20, 30, 40]\n",
            "list2:  [50, 60, 70, 80]\n"
          ],
          "name": "stdout"
        }
      ]
    },
    {
      "cell_type": "code",
      "metadata": {
        "colab": {
          "base_uri": "https://localhost:8080/"
        },
        "id": "wj0Qo_GulFgq",
        "outputId": "d5bf1bdc-40c4-403e-a35b-07e9762cab03"
      },
      "source": [
        "# Python Program to Show all of the Even Numbers from 1 to N (Including N)\r\n",
        " \r\n",
        "maximum = int(input(\" Please Enter the Maximum Value : \"))\r\n",
        "total = 0\r\n",
        "\r\n",
        "for number in range(1, maximum+1):\r\n",
        "    if(number % 2 == 0):\r\n",
        "        print(\"{0}\".format(number))\r\n",
        "        total = total + number\r\n",
        "\r\n",
        "print(\"All the Even Numbers from 1 to {0} = {1}\".format(number, total))"
      ],
      "execution_count": 5,
      "outputs": [
        {
          "output_type": "stream",
          "text": [
            " Please Enter the Maximum Value : 20\n",
            "2\n",
            "4\n",
            "6\n",
            "8\n",
            "10\n",
            "12\n",
            "14\n",
            "16\n",
            "18\n",
            "20\n",
            "All the Even Numbers from 1 to 20 = 110\n"
          ],
          "name": "stdout"
        }
      ]
    },
    {
      "cell_type": "code",
      "metadata": {
        "id": "6HFvTmoHpUpc"
      },
      "source": [
        ""
      ],
      "execution_count": 5,
      "outputs": []
    }
  ]
}