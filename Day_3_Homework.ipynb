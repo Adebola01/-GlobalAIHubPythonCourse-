{
  "nbformat": 4,
  "nbformat_minor": 0,
  "metadata": {
    "colab": {
      "name": "Day 3 Homework.ipynb",
      "provenance": [],
      "collapsed_sections": [],
      "authorship_tag": "ABX9TyMHp5O/eT7n6rDk6mtHIHDM",
      "include_colab_link": true
    },
    "kernelspec": {
      "name": "python3",
      "display_name": "Python 3"
    }
  },
  "cells": [
    {
      "cell_type": "markdown",
      "metadata": {
        "id": "view-in-github",
        "colab_type": "text"
      },
      "source": [
        "<a href=\"https://colab.research.google.com/github/Adebola01/-GlobalAIHubPythonCourse-/blob/main/Day_3_Homework.ipynb\" target=\"_parent\"><img src=\"https://colab.research.google.com/assets/colab-badge.svg\" alt=\"Open In Colab\"/></a>"
      ]
    },
    {
      "cell_type": "code",
      "metadata": {
        "colab": {
          "base_uri": "https://localhost:8080/"
        },
        "id": "_CE7C2ZKqEmw",
        "outputId": "5e3ce349-02b3-4582-c524-3abc9b444d62"
      },
      "source": [
        "print(\"**************Login Page**************\")\r\n",
        "\r\n",
        "user_name = \"Olajumoke\"\r\n",
        "password =\"beautiful@22\"\r\n",
        "\r\n",
        "user_name1 =input(\"Please enter your user name\")\r\n",
        "\r\n",
        "password1= input(\"Please enter your password.\")\r\n",
        "\r\n",
        "if (user_name != user_name1 and password == password1):\r\n",
        "    print(\"Invalid user name\")\r\n",
        "elif (user_name==user_name1 and password != password1):\r\n",
        "    print(\"Invalid Password\")\r\n",
        "elif (user_name != user_name1 and password!= password1):\r\n",
        "    print(\"Invalid user name and password\")\r\n",
        "else:\r\n",
        "    print(\"You are now logged in...\")"
      ],
      "execution_count": 1,
      "outputs": [
        {
          "output_type": "stream",
          "text": [
            "**************Login Page**************\n",
            "Please enter your user nameOlajumoke\n",
            "Please enter your password.beautiful@22\n",
            "You are now logged in...\n"
          ],
          "name": "stdout"
        }
      ]
    },
    {
      "cell_type": "code",
      "metadata": {
        "colab": {
          "base_uri": "https://localhost:8080/"
        },
        "id": "IwMYgt4LBFN0",
        "outputId": "d0bcc0f3-852e-4866-bdca-6b492c28887c"
      },
      "source": [
        "# User Login Application (Using Dictionary)\r\n",
        "print(\"**************Login Page**************\")\r\n",
        "\r\n",
        "user_name = \"Olajumoke\"\r\n",
        "password =\"beautiful@22\"\r\n",
        "\r\n",
        "user_name1 =input(\"Please enter your user name\")\r\n",
        "\r\n",
        "password1= input(\"Please enter your password.\")\r\n",
        "\r\n",
        "if (user_name != user_name1 and password!= password1):\r\n",
        "    print(\"Invalid user name and password\")\r\n",
        "else:\r\n",
        "    print(\"You are now logged in...\")"
      ],
      "execution_count": 3,
      "outputs": [
        {
          "output_type": "stream",
          "text": [
            "**************Login Page**************\n",
            "Please enter your user nameOlajumoke\n",
            "Please enter your password.beautiful@22\n",
            "You are now logged in...\n"
          ],
          "name": "stdout"
        }
      ]
    },
    {
      "cell_type": "code",
      "metadata": {
        "id": "HLn9ydqgM80a"
      },
      "source": [
        ""
      ],
      "execution_count": null,
      "outputs": []
    }
  ]
}