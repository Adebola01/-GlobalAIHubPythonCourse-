{
  "nbformat": 4,
  "nbformat_minor": 0,
  "metadata": {
    "colab": {
      "name": "Final Project.ipynb",
      "provenance": [],
      "collapsed_sections": [],
      "authorship_tag": "ABX9TyOx3imOAKJ2xNthDO2R3Git",
      "include_colab_link": true
    },
    "kernelspec": {
      "name": "python3",
      "display_name": "Python 3"
    }
  },
  "cells": [
    {
      "cell_type": "markdown",
      "metadata": {
        "id": "view-in-github",
        "colab_type": "text"
      },
      "source": [
        "<a href=\"https://colab.research.google.com/github/Adebola01/-GlobalAIHubPythonCourse-/blob/main/Final_Project.ipynb\" target=\"_parent\"><img src=\"https://colab.research.google.com/assets/colab-badge.svg\" alt=\"Open In Colab\"/></a>"
      ]
    },
    {
      "cell_type": "code",
      "metadata": {
        "id": "48SaSOi5NYL0"
      },
      "source": [
        "class Employees3():\r\n",
        "    def __init__(self, name, age):\r\n",
        "        self.name = name\r\n",
        "        self.age = age\r\n",
        "        self.language = []\r\n",
        "        \r\n",
        "    def welcomeEmployees(self):\r\n",
        "        print(\"Hello\",self.name)\r\n",
        "    \r\n",
        "    def showAge(self):\r\n",
        "        print(self.age)\r\n",
        "        \r\n",
        "    def addLanguage(self,new_lang):\r\n",
        "        print(\"Adding new language\")\r\n",
        "        self.language.append(new_lang)\r\n",
        "    def showInfo(self):\r\n",
        "        print(\"{} is {} years old\".format(self.name,self.age))\r\n",
        "        print(\"He can speak:\")\r\n",
        "        for i in self.language:\r\n",
        "              print(i)"
      ],
      "execution_count": 1,
      "outputs": []
    },
    {
      "cell_type": "code",
      "metadata": {
        "id": "k89iufNWpmMZ"
      },
      "source": [
        "Santiago = Employees3(\"Santiago\",26)"
      ],
      "execution_count": 6,
      "outputs": []
    },
    {
      "cell_type": "code",
      "metadata": {
        "colab": {
          "base_uri": "https://localhost:8080/"
        },
        "id": "bw2iXqTdp4iM",
        "outputId": "6140826e-119c-4cd7-a99d-23ab4ecb741a"
      },
      "source": [
        "Santiago"
      ],
      "execution_count": 7,
      "outputs": [
        {
          "output_type": "execute_result",
          "data": {
            "text/plain": [
              "<__main__.Employees3 at 0x7f74170fe940>"
            ]
          },
          "metadata": {
            "tags": []
          },
          "execution_count": 7
        }
      ]
    },
    {
      "cell_type": "code",
      "metadata": {
        "colab": {
          "base_uri": "https://localhost:8080/"
        },
        "id": "jHbQY8B8p8Ez",
        "outputId": "78d86aa5-75f4-47a3-a4ae-672366888a2d"
      },
      "source": [
        "Santiago.addLanguage(\"Spanish\")"
      ],
      "execution_count": 8,
      "outputs": [
        {
          "output_type": "stream",
          "text": [
            "Adding new language\n"
          ],
          "name": "stdout"
        }
      ]
    },
    {
      "cell_type": "code",
      "metadata": {
        "colab": {
          "base_uri": "https://localhost:8080/"
        },
        "id": "0pFrcViSp8tn",
        "outputId": "65f635e7-38e6-4810-9f62-8b9f0e1acbaf"
      },
      "source": [
        "Santiago.showAge()"
      ],
      "execution_count": 9,
      "outputs": [
        {
          "output_type": "stream",
          "text": [
            "26\n"
          ],
          "name": "stdout"
        }
      ]
    },
    {
      "cell_type": "code",
      "metadata": {
        "colab": {
          "base_uri": "https://localhost:8080/"
        },
        "id": "1cafxk3jqBrH",
        "outputId": "d1806ed5-d7cd-4819-8d8a-c6dc39d43cf0"
      },
      "source": [
        "Santiago.showInfo()"
      ],
      "execution_count": 10,
      "outputs": [
        {
          "output_type": "stream",
          "text": [
            "Santiago is 26 years old\n",
            "He can speak:\n",
            "Spanish\n"
          ],
          "name": "stdout"
        }
      ]
    },
    {
      "cell_type": "code",
      "metadata": {
        "id": "7La_MhWjqZHq"
      },
      "source": [
        "Diego = Employees3(\"Diego\",32)"
      ],
      "execution_count": 11,
      "outputs": []
    },
    {
      "cell_type": "code",
      "metadata": {
        "colab": {
          "base_uri": "https://localhost:8080/"
        },
        "id": "Hww8y6qxqgS8",
        "outputId": "5b889b90-cc7b-463c-923c-fd912eed8ef7"
      },
      "source": [
        "Diego"
      ],
      "execution_count": 12,
      "outputs": [
        {
          "output_type": "execute_result",
          "data": {
            "text/plain": [
              "<__main__.Employees3 at 0x7f74170fec50>"
            ]
          },
          "metadata": {
            "tags": []
          },
          "execution_count": 12
        }
      ]
    },
    {
      "cell_type": "code",
      "metadata": {
        "colab": {
          "base_uri": "https://localhost:8080/"
        },
        "id": "Xh0EQNLGqhqS",
        "outputId": "0c0428b5-a3dd-48e8-f8b5-d278f4fe4eac"
      },
      "source": [
        "Diego.addLanguage(\"Latin\")"
      ],
      "execution_count": 14,
      "outputs": [
        {
          "output_type": "stream",
          "text": [
            "Adding new language\n"
          ],
          "name": "stdout"
        }
      ]
    },
    {
      "cell_type": "code",
      "metadata": {
        "colab": {
          "base_uri": "https://localhost:8080/"
        },
        "id": "X4m7xEnKqkgX",
        "outputId": "a0b9d3fb-734a-478a-fbd3-3a3129a0e366"
      },
      "source": [
        "Diego.showAge()"
      ],
      "execution_count": 15,
      "outputs": [
        {
          "output_type": "stream",
          "text": [
            "32\n"
          ],
          "name": "stdout"
        }
      ]
    },
    {
      "cell_type": "code",
      "metadata": {
        "colab": {
          "base_uri": "https://localhost:8080/"
        },
        "id": "KnDU760Hqq0Q",
        "outputId": "3198773e-3a14-4633-8d0a-7603e0d79b34"
      },
      "source": [
        "Diego.showInfo()"
      ],
      "execution_count": 16,
      "outputs": [
        {
          "output_type": "stream",
          "text": [
            "Diego is 32 years old\n",
            "He can speak:\n",
            "Latin\n"
          ],
          "name": "stdout"
        }
      ]
    },
    {
      "cell_type": "code",
      "metadata": {
        "id": "xV0Sn78Lqs6s"
      },
      "source": [
        "Ademola = Employees3(\"Ademola\",25)"
      ],
      "execution_count": 17,
      "outputs": []
    },
    {
      "cell_type": "code",
      "metadata": {
        "colab": {
          "base_uri": "https://localhost:8080/"
        },
        "id": "G0eZsWVQqzX3",
        "outputId": "c238d09d-e89a-47ca-e432-6a1f0c09ddc7"
      },
      "source": [
        "Ademola"
      ],
      "execution_count": 18,
      "outputs": [
        {
          "output_type": "execute_result",
          "data": {
            "text/plain": [
              "<__main__.Employees3 at 0x7f741710b128>"
            ]
          },
          "metadata": {
            "tags": []
          },
          "execution_count": 18
        }
      ]
    },
    {
      "cell_type": "code",
      "metadata": {
        "colab": {
          "base_uri": "https://localhost:8080/"
        },
        "id": "ZigZLqVGq0oc",
        "outputId": "84024488-f7f3-490e-b681-d9e789e8d275"
      },
      "source": [
        "Ademola.addLanguage(\"Yoruba\")"
      ],
      "execution_count": 19,
      "outputs": [
        {
          "output_type": "stream",
          "text": [
            "Adding new language\n"
          ],
          "name": "stdout"
        }
      ]
    },
    {
      "cell_type": "code",
      "metadata": {
        "colab": {
          "base_uri": "https://localhost:8080/"
        },
        "id": "yfdyZNytq3qL",
        "outputId": "bf123fd3-34a6-4723-8093-beea850226c9"
      },
      "source": [
        "Ademola.showAge()"
      ],
      "execution_count": 20,
      "outputs": [
        {
          "output_type": "stream",
          "text": [
            "25\n"
          ],
          "name": "stdout"
        }
      ]
    },
    {
      "cell_type": "code",
      "metadata": {
        "colab": {
          "base_uri": "https://localhost:8080/"
        },
        "id": "2_LPjq3cq5vP",
        "outputId": "d179766e-34bb-4b8e-c54d-dbbd86c9c7de"
      },
      "source": [
        "Ademola.showInfo()"
      ],
      "execution_count": 21,
      "outputs": [
        {
          "output_type": "stream",
          "text": [
            "Ademola is 25 years old\n",
            "He can speak:\n",
            "Yoruba\n"
          ],
          "name": "stdout"
        }
      ]
    },
    {
      "cell_type": "code",
      "metadata": {
        "id": "j1I9LXkkq8tQ"
      },
      "source": [
        "class Managers3():\r\n",
        "    def __init__(self, name, age):\r\n",
        "        self.name = name\r\n",
        "        self.age = age\r\n",
        "        self.language = []\r\n",
        "        \r\n",
        "    def welcomeManagers(self):\r\n",
        "        print(\"Hello\",self.name)\r\n",
        "    \r\n",
        "    def showAge(self):\r\n",
        "        print(self.age)\r\n",
        "        \r\n",
        "    def addLanguage(self,new_lang):\r\n",
        "        print(\"Adding new language\")\r\n",
        "        self.language.append(new_lang)\r\n",
        "    def showInfo(self):\r\n",
        "        print(\"{} is {} years old\".format(self.name,self.age))\r\n",
        "        print(\"He can speak:\")\r\n",
        "        for i in self.language:\r\n",
        "              print(i)"
      ],
      "execution_count": 22,
      "outputs": []
    },
    {
      "cell_type": "code",
      "metadata": {
        "id": "_Py9dRdsrDvb"
      },
      "source": [
        "Martins = Managers3(\"Martins\",30)"
      ],
      "execution_count": 27,
      "outputs": []
    },
    {
      "cell_type": "code",
      "metadata": {
        "colab": {
          "base_uri": "https://localhost:8080/"
        },
        "id": "rF6eGT8SrS8m",
        "outputId": "62053b55-c4b3-436f-f8a8-7cee178a60f4"
      },
      "source": [
        "Martins"
      ],
      "execution_count": 28,
      "outputs": [
        {
          "output_type": "execute_result",
          "data": {
            "text/plain": [
              "<__main__.Managers3 at 0x7f74171198d0>"
            ]
          },
          "metadata": {
            "tags": []
          },
          "execution_count": 28
        }
      ]
    },
    {
      "cell_type": "code",
      "metadata": {
        "colab": {
          "base_uri": "https://localhost:8080/"
        },
        "id": "56iczNrer-La",
        "outputId": "f079d14f-5dd8-490d-e85d-3505098fa44d"
      },
      "source": [
        "Martins.addLanguage(\"English\")"
      ],
      "execution_count": 29,
      "outputs": [
        {
          "output_type": "stream",
          "text": [
            "Adding new language\n"
          ],
          "name": "stdout"
        }
      ]
    },
    {
      "cell_type": "code",
      "metadata": {
        "colab": {
          "base_uri": "https://localhost:8080/"
        },
        "id": "jFM04AW9sBAH",
        "outputId": "d0355d92-e5f8-47c7-e9c6-9dc33daea237"
      },
      "source": [
        "Martins.showAge()"
      ],
      "execution_count": 30,
      "outputs": [
        {
          "output_type": "stream",
          "text": [
            "30\n"
          ],
          "name": "stdout"
        }
      ]
    },
    {
      "cell_type": "code",
      "metadata": {
        "colab": {
          "base_uri": "https://localhost:8080/"
        },
        "id": "Umea_WVSsDyU",
        "outputId": "d3113ef9-9f68-47f0-97bb-0f982fd61d42"
      },
      "source": [
        "Martins.showInfo()"
      ],
      "execution_count": 31,
      "outputs": [
        {
          "output_type": "stream",
          "text": [
            "Martins is 30 years old\n",
            "He can speak:\n",
            "English\n"
          ],
          "name": "stdout"
        }
      ]
    },
    {
      "cell_type": "code",
      "metadata": {
        "id": "zTyfD_YFsHMt"
      },
      "source": [
        "Adrian = Managers3(\"Adrian\",35)"
      ],
      "execution_count": 33,
      "outputs": []
    },
    {
      "cell_type": "code",
      "metadata": {
        "colab": {
          "base_uri": "https://localhost:8080/"
        },
        "id": "nOqbVKWUsLKi",
        "outputId": "4eef4cb2-ab24-4e48-e5bf-9d193336b1c2"
      },
      "source": [
        "Adrian"
      ],
      "execution_count": 34,
      "outputs": [
        {
          "output_type": "execute_result",
          "data": {
            "text/plain": [
              "<__main__.Managers3 at 0x7f741710b898>"
            ]
          },
          "metadata": {
            "tags": []
          },
          "execution_count": 34
        }
      ]
    },
    {
      "cell_type": "code",
      "metadata": {
        "colab": {
          "base_uri": "https://localhost:8080/"
        },
        "id": "93c2EdfesUWW",
        "outputId": "68e7df74-defe-4edf-cc7c-c0e6076227d6"
      },
      "source": [
        "Adrian.addLanguage(\"Russian\")"
      ],
      "execution_count": 35,
      "outputs": [
        {
          "output_type": "stream",
          "text": [
            "Adding new language\n"
          ],
          "name": "stdout"
        }
      ]
    },
    {
      "cell_type": "code",
      "metadata": {
        "colab": {
          "base_uri": "https://localhost:8080/"
        },
        "id": "qiRvv-S0sWY4",
        "outputId": "61f86c27-3e0b-4802-dcdf-8a609948c933"
      },
      "source": [
        "Adrian.showAge()"
      ],
      "execution_count": 36,
      "outputs": [
        {
          "output_type": "stream",
          "text": [
            "35\n"
          ],
          "name": "stdout"
        }
      ]
    },
    {
      "cell_type": "code",
      "metadata": {
        "colab": {
          "base_uri": "https://localhost:8080/"
        },
        "id": "f2vh8LdhsYmh",
        "outputId": "ff0dd8a4-235a-4a1e-9341-ac12fa857ab0"
      },
      "source": [
        "Adrian.showInfo()"
      ],
      "execution_count": 37,
      "outputs": [
        {
          "output_type": "stream",
          "text": [
            "Adrian is 35 years old\n",
            "He can speak:\n",
            "Russian\n"
          ],
          "name": "stdout"
        }
      ]
    },
    {
      "cell_type": "code",
      "metadata": {
        "id": "EODt7dUHsbQD"
      },
      "source": [
        ""
      ],
      "execution_count": null,
      "outputs": []
    }
  ]
}