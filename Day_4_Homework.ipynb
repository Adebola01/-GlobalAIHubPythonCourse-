{
  "nbformat": 4,
  "nbformat_minor": 0,
  "metadata": {
    "colab": {
      "name": "Day 4 Homework.ipynb",
      "provenance": [],
      "collapsed_sections": [],
      "authorship_tag": "ABX9TyPIl4ZbInQj5HPTNtlWDuUU",
      "include_colab_link": true
    },
    "kernelspec": {
      "name": "python3",
      "display_name": "Python 3"
    }
  },
  "cells": [
    {
      "cell_type": "markdown",
      "metadata": {
        "id": "view-in-github",
        "colab_type": "text"
      },
      "source": [
        "<a href=\"https://colab.research.google.com/github/Adebola01/-GlobalAIHubPythonCourse-/blob/main/Day_4_Homework.ipynb\" target=\"_parent\"><img src=\"https://colab.research.google.com/assets/colab-badge.svg\" alt=\"Open In Colab\"/></a>"
      ]
    },
    {
      "cell_type": "code",
      "metadata": {
        "colab": {
          "base_uri": "https://localhost:8080/"
        },
        "id": "q_FIevZ-s-gp",
        "outputId": "35b70dc4-2e92-45b5-d94e-0556b3cab2cd"
      },
      "source": [
        "# Display all the prime numbers between 0 and 100\r\n",
        "\r\n",
        "lower = 0\r\n",
        "upper = 100\r\n",
        "\r\n",
        "print(\"Prime numbers between\", lower, \"and\", upper, \"are:\")\r\n",
        "\r\n",
        "for num in range(lower, upper + 1):\r\n",
        "   # all prime numbers are greater than 1\r\n",
        "   if num > 1:\r\n",
        "       for i in range(2, num):\r\n",
        "           if (num % i) == 0:\r\n",
        "               break\r\n",
        "       else:\r\n",
        "           print(num)"
      ],
      "execution_count": 1,
      "outputs": [
        {
          "output_type": "stream",
          "text": [
            "Prime numbers between 0 and 100 are:\n",
            "2\n",
            "3\n",
            "5\n",
            "7\n",
            "11\n",
            "13\n",
            "17\n",
            "19\n",
            "23\n",
            "29\n",
            "31\n",
            "37\n",
            "41\n",
            "43\n",
            "47\n",
            "53\n",
            "59\n",
            "61\n",
            "67\n",
            "71\n",
            "73\n",
            "79\n",
            "83\n",
            "89\n",
            "97\n"
          ],
          "name": "stdout"
        }
      ]
    },
    {
      "cell_type": "code",
      "metadata": {
        "id": "pNclEew9xzrC"
      },
      "source": [
        ""
      ],
      "execution_count": null,
      "outputs": []
    }
  ]
}